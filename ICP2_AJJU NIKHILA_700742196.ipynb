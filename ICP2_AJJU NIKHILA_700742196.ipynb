{
 "cells": [
  {
   "cell_type": "code",
   "execution_count": 1,
   "id": "f78e46b1",
   "metadata": {},
   "outputs": [
    {
     "name": "stdout",
     "output_type": "stream",
     "text": [
      "enter first name :ajju\n",
      "enter last name : nihkila\n",
      "Full name :  ajju nihkila\n"
     ]
    }
   ],
   "source": [
    "def getFullName(firstName,lastName):\n",
    "    return firstName + ' ' + lastName\n",
    "\n",
    "\n",
    "\n",
    "first_name = input(\"enter first name :\")\n",
    "last_name = input(\"enter last name : \")\n",
    "print(\"Full name : \",getFullName(first_name,last_name))\n"
   ]
  },
  {
   "cell_type": "code",
   "execution_count": 2,
   "id": "3fadfcd6",
   "metadata": {},
   "outputs": [
    {
     "name": "stdout",
     "output_type": "stream",
     "text": [
      "enter full string : good evening\n",
      " go vnn\n"
     ]
    }
   ],
   "source": [
    "def string_alternative(s):\n",
    "    final_str = ''\n",
    "    indv_words = s.split()\n",
    "    start_index = 0\n",
    "    for i in range(len(indv_words)):\n",
    "        final_str = final_str + ' ' + indv_words[i][start_index::2]\n",
    "        start_index = 1\n",
    "    return final_str\n",
    "\n",
    "str_ = input(\"enter full string : \")\n",
    "print(string_alternative(str_))"
   ]
  },
  {
   "cell_type": "code",
   "execution_count": 3,
   "id": "94574403",
   "metadata": {},
   "outputs": [
    {
     "name": "stdout",
     "output_type": "stream",
     "text": [
      "Enter the no of customers: 2\n",
      "Enter height in inches for customer 1: 34\n",
      "Enter height in inches for customer 2: 34\n",
      "[86.36, 86.36]\n",
      "Enter the number of customers: 3\n",
      "Enter height in inches for customer 1: 23\n",
      "Enter height in inches for customer 2: 45\n",
      "Enter height in inches for customer 3: 56\n",
      "[58.42, 114.3, 142.24]\n"
     ]
    }
   ],
   "source": [
    "def inches_to_cm(inches):\n",
    "    return inches * 2.54\n",
    "\n",
    "\n",
    "no_customers = int(input(\"Enter the no of customers: \"))\n",
    "heights_inches = []\n",
    "\n",
    "for i in range(no_customers):\n",
    "    height = float(input(f\"Enter height in inches for customer {i+1}: \"))\n",
    "    heights_inches.append(height)\n",
    "    \n",
    "height_to_cm = []\n",
    "for height_inch in heights_inches:\n",
    "    height_cm = inches_to_cm(height_inch)\n",
    "    height_to_cm.append(height_cm)\n",
    "\n",
    "print(height_to_cm)\n",
    "\n",
    "# usning list comprehension \n",
    "\n",
    "num_customers_l = int(input(\"Enter the number of customers: \"))\n",
    "heights_inches_l = [float(input(f\"Enter height in inches for customer {i+1}: \")) for i in range(num_customers_l)]\n",
    "heights_cm = [inches_to_cm(height_inch) for height_inch in heights_inches_l]\n",
    "print(heights_cm)"
   ]
  },
  {
   "cell_type": "code",
   "execution_count": 6,
   "id": "ec93bdd1",
   "metadata": {},
   "outputs": [],
   "source": [
    "input_filename = \"input.txt\"\n",
    "output_filename = \"output.txt\"\n",
    "\n",
    "try:\n",
    "    with open(input_filename, 'r') as input_file:\n",
    "        lines = input_file.readlines()\n",
    "        \n",
    "        word_counts = {}\n",
    "        for line in lines:\n",
    "            line = line.strip()  # Remove leading/trailing whitespace\n",
    "            words = line.split()\n",
    "            for i in range(len(words)):\n",
    "                if words[i] in word_counts:\n",
    "                    word_counts[words[i]] += 1\n",
    "                else:\n",
    "                    word_counts[words[i]] = 1\n",
    "            \n",
    "        with open(output_filename, 'w') as output_file:\n",
    "            for key in word_counts:\n",
    "                output_file.write(f\"{key}\\t : {word_counts[key]}\\n\")\n",
    "\n",
    "except FileNotFoundError:\n",
    "    print(f\"File '{input_filename}' not found.\")\n",
    "except Exception as e:\n",
    "    print(f\"An error occurred: {e}\")"
   ]
  },
  {
   "cell_type": "code",
   "execution_count": null,
   "id": "f4e78513",
   "metadata": {},
   "outputs": [],
   "source": []
  }
 ],
 "metadata": {
  "kernelspec": {
   "display_name": "Python 3 (ipykernel)",
   "language": "python",
   "name": "python3"
  },
  "language_info": {
   "codemirror_mode": {
    "name": "ipython",
    "version": 3
   },
   "file_extension": ".py",
   "mimetype": "text/x-python",
   "name": "python",
   "nbconvert_exporter": "python",
   "pygments_lexer": "ipython3",
   "version": "3.11.4"
  }
 },
 "nbformat": 4,
 "nbformat_minor": 5
}
